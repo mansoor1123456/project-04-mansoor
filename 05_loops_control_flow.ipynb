{
  "nbformat": 4,
  "nbformat_minor": 0,
  "metadata": {
    "colab": {
      "provenance": [],
      "authorship_tag": "ABX9TyPq8lKzwAyHqhxzSVwI+N72",
      "include_colab_link": true
    },
    "kernelspec": {
      "name": "python3",
      "display_name": "Python 3"
    },
    "language_info": {
      "name": "python"
    }
  },
  "cells": [
    {
      "cell_type": "markdown",
      "metadata": {
        "id": "view-in-github",
        "colab_type": "text"
      },
      "source": [
        "<a href=\"https://colab.research.google.com/github/mansoor1123456/project-04-mansoor/blob/main/05_loops_control_flow.ipynb\" target=\"_parent\"><img src=\"https://colab.research.google.com/assets/colab-badge.svg\" alt=\"Open In Colab\"/></a>"
      ]
    },
    {
      "cell_type": "code",
      "execution_count": null,
      "metadata": {
        "id": "-Iq-a_AAHNiL",
        "colab": {
          "base_uri": "https://localhost:8080/"
        },
        "outputId": "92927988-f181-49ae-e720-f477e58f407c"
      },
      "outputs": [
        {
          "output_type": "stream",
          "name": "stdout",
          "text": [
            "00_guess_my_number\n",
            "I am thinking of a number between 1 and 99...\n"
          ]
        }
      ],
      "source": [
        "print (\"00_guess_my_number\")\n",
        "\n",
        "import random\n",
        "\n",
        "def main():\n",
        "    # Generate the secret number at random!\n",
        "    secret_number = random.randint(1, 99)\n",
        "\n",
        "    print(\"I am thinking of a number between 1 and 99...\")\n",
        "\n",
        "    # Get user's guess\n",
        "    guess = int(input(\"Enter a guess: \"))\n",
        "\n",
        "    # Loop continues until the guess is correct\n",
        "    while guess != secret_number:\n",
        "        if guess < secret_number:  # If guess is lower than the secret number\n",
        "            print(\"Your guess is too low\")\n",
        "        else:  # If guess is higher than the secret number\n",
        "            print(\"Your guess is too high\")\n",
        "\n",
        "        # Print an empty line for a neat output\n",
        "        print()\n",
        "\n",
        "        # Get a new guess from the user\n",
        "        guess = int(input(\"Enter a new guess: \"))\n",
        "\n",
        "    # Congratulate the user once they guess the number correctly\n",
        "    print(\"Congrats! The number was: \" + str(secret_number))\n",
        "\n",
        "# Ensure the program runs when executed\n",
        "if __name__ == '__main__':\n",
        "    main()\n"
      ]
    },
    {
      "cell_type": "code",
      "source": [
        "print (\"01_fibonacci\")\n",
        "\n",
        "MAX_TERM_VALUE = 10000  # The maximum value for the Fibonacci term\n",
        "\n",
        "def main():\n",
        "    curr_term = 0  # The 0th Fibonacci Number\n",
        "    next_term = 1  # The 1st Fibonacci Number\n",
        "\n",
        "    # Loop until the current term exceeds the MAX_TERM_VALUE\n",
        "    while curr_term <= MAX_TERM_VALUE:\n",
        "        print(curr_term)  # Print the current Fibonacci number\n",
        "        # Update the terms to move to the next Fibonacci numbers\n",
        "        term_after_next = curr_term + next_term\n",
        "        curr_term = next_term\n",
        "        next_term = term_after_next\n",
        "\n",
        "# Ensure the program runs when executed\n",
        "if __name__ == '__main__':\n",
        "    main()\n"
      ],
      "metadata": {
        "id": "GUCXAa02IpVg"
      },
      "execution_count": null,
      "outputs": []
    },
    {
      "cell_type": "code",
      "source": [
        "print (\"02_print_events\")\n",
        "\n",
        "def main():\n",
        "    # Loop over a range of 20 to print the first 20 even numbers\n",
        "    for i in range(20):\n",
        "        print(i * 2)  # Print the even number by multiplying the index by 2\n",
        "\n",
        "# Ensure the program runs when executed\n",
        "if __name__ == \"__main__\":\n",
        "    main()\n"
      ],
      "metadata": {
        "id": "99PJqhuqI8dg"
      },
      "execution_count": null,
      "outputs": []
    },
    {
      "cell_type": "code",
      "source": [
        "print (\"03_wholesome_machine\")\n",
        "\n",
        "AFFIRMATION = \"I am capable of doing anything I put my mind to.\"  # Define the correct affirmation\n",
        "\n",
        "def main():\n",
        "    print(\"Please type the following affirmation: \" + AFFIRMATION)  # Display the affirmation\n",
        "\n",
        "    user_feedback = input()  # Get user's input\n",
        "    while user_feedback != AFFIRMATION:  # Check if the input is not correct\n",
        "        print(\"That was not the affirmation.\")  # Inform the user of the incorrect input\n",
        "\n",
        "        print(\"Please type the following affirmation: \" + AFFIRMATION)  # Show the affirmation again\n",
        "        user_feedback = input()  # Get the new user input\n",
        "\n",
        "    print(\"That's right! :)\")  # Congratulate the user once they get it right\n",
        "\n",
        "# Ensure the program runs when executed\n",
        "if __name__ == '__main__':\n",
        "    main()\n"
      ],
      "metadata": {
        "id": "1EpcTAzcJNn5"
      },
      "execution_count": null,
      "outputs": []
    },
    {
      "cell_type": "code",
      "source": [
        "print (\"03_wholesome_machine\")\n",
        "\n",
        "AFFIRMATION = \"I am capable of doing anything I put my mind to.\"\n",
        "\n",
        "def main():\n",
        "    print(\"Please type the following affirmation: \" + AFFIRMATION)\n",
        "\n",
        "    user_input = input()\n",
        "\n",
        "    # Jab tak user ka input affirmation ke barabar nahi hota\n",
        "    while user_input != AFFIRMATION:\n",
        "        print(\"That was not the affirmation.\")\n",
        "        print(\"Please type the following affirmation: \" + AFFIRMATION)\n",
        "        user_input = input()\n",
        "\n",
        "    print(\"That's right! :)\")\n",
        "\n",
        "# Program start hone ka point\n",
        "if __name__ == '__main__':\n",
        "    main()\n"
      ],
      "metadata": {
        "id": "3SeMEGeKJn9R"
      },
      "execution_count": null,
      "outputs": []
    },
    {
      "cell_type": "code",
      "source": [
        "print (\"04_liftoff\")\n",
        "\n",
        "def main():\n",
        "    # Countdown from 10 to 1 (inclusive)\n",
        "    for i in range(10, 0, -1):  # start=10, stop=0 (not included), step=-1\n",
        "        print(i)\n",
        "\n",
        "    # After the countdown\n",
        "    print(\"Liftoff!\")\n",
        "\n",
        "\n",
        "# Required line to start the program\n",
        "if __name__ == '__main__':\n",
        "    main()\n"
      ],
      "metadata": {
        "id": "izhuhfMGKCmq"
      },
      "execution_count": null,
      "outputs": []
    },
    {
      "cell_type": "code",
      "source": [
        "print (\"05_double_it\")\n",
        "\n",
        "def main():\n",
        "    # User se input lena\n",
        "    curr_value = int(input(\"Enter a number: \"))\n",
        "\n",
        "    # Jab tak value 100 se chhoti hai, usko double karte jao\n",
        "    while curr_value < 100:\n",
        "        curr_value = curr_value * 2  # value ko double karo\n",
        "        print(curr_value)  # aur print karo\n",
        "\n",
        "# Program yahan se start hota hai\n",
        "if __name__ == '__main__':\n",
        "    main()\n"
      ],
      "metadata": {
        "id": "g5va2bvSKTRS"
      },
      "execution_count": null,
      "outputs": []
    }
  ]
}