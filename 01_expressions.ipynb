{
  "nbformat": 4,
  "nbformat_minor": 0,
  "metadata": {
    "colab": {
      "provenance": [],
      "authorship_tag": "ABX9TyMLB8j4j//LWgyLyvZ5W1ik",
      "include_colab_link": true
    },
    "kernelspec": {
      "name": "python3",
      "display_name": "Python 3"
    },
    "language_info": {
      "name": "python"
    }
  },
  "cells": [
    {
      "cell_type": "markdown",
      "metadata": {
        "id": "view-in-github",
        "colab_type": "text"
      },
      "source": [
        "<a href=\"https://colab.research.google.com/github/mansoor1123456/project-04-mansoor/blob/main/01_expressions.ipynb\" target=\"_parent\"><img src=\"https://colab.research.google.com/assets/colab-badge.svg\" alt=\"Open In Colab\"/></a>"
      ]
    },
    {
      "cell_type": "code",
      "execution_count": null,
      "metadata": {
        "colab": {
          "base_uri": "https://localhost:8080/"
        },
        "id": "RIgvSv4pq0yo",
        "outputId": "65248ba5-20c4-4047-8657-5e8db27b5318"
      },
      "outputs": [
        {
          "output_type": "stream",
          "name": "stdout",
          "text": [
            "01_dicesimulator\n",
            "die1 in main() starts as: 10\n",
            "Rolled dice: die1 = 5 die2 = 1 Total = 6\n",
            "Rolled dice: die1 = 1 die2 = 2 Total = 3\n",
            "Rolled dice: die1 = 6 die2 = 2 Total = 8\n",
            "die1 in main() is still: 10\n"
          ]
        }
      ],
      "source": [
        "print (\"01_dicesimulator\")\n",
        "\n",
        "\"\"\"\n",
        "Program: dicesimulator\n",
        "----------------------\n",
        "Simulate rolling two dice, three times. Prints\n",
        "the results of each die roll. This program is used\n",
        "to show how variable scope works.\n",
        "\"\"\"\n",
        "\n",
        "import random\n",
        "\n",
        "# Number of sides on each die\n",
        "NUM_SIDES = 6\n",
        "\n",
        "def roll_dice():\n",
        "    \"\"\"\n",
        "    Simulates rolling two dice and prints their total\n",
        "    \"\"\"\n",
        "    die1 = random.randint(1, NUM_SIDES)\n",
        "    die2 = random.randint(1, NUM_SIDES)\n",
        "    total = die1 + die2\n",
        "    print(\"Rolled dice: die1 =\", die1, \"die2 =\", die2, \"Total =\", total)\n",
        "\n",
        "def main():\n",
        "    die1 = 10\n",
        "    print(\"die1 in main() starts as:\", die1)\n",
        "\n",
        "    # Roll dice three times\n",
        "    roll_dice()\n",
        "    roll_dice()\n",
        "    roll_dice()\n",
        "\n",
        "    print(\"die1 in main() is still:\", die1)\n",
        "\n",
        "if __name__ == '__main__':\n",
        "    main()\n"
      ]
    },
    {
      "cell_type": "code",
      "source": [
        "print (\"02_e=mc2\")\n",
        "\n",
        "# Constant speed of light in meters/second\n",
        "C = 299792458\n",
        "\n",
        "def main():\n",
        "    # Step 1: Get input from the user\n",
        "    mass_in_kg = float(input(\"Enter kilos of mass: \"))\n",
        "\n",
        "    # Step 2: Calculate energy using E = m * c^2\n",
        "    energy_in_joules = mass_in_kg * (C ** 2)\n",
        "\n",
        "    # Step 3: Print output nicely\n",
        "    print(\"\\ne = m * C^2...\")\n",
        "    print(\"m =\", mass_in_kg, \"kg\")\n",
        "    print(\"C =\", C, \"m/s\")\n",
        "    print(f\"{energy_in_joules} joules of energy!\")\n",
        "\n",
        "# Required to run the main() function\n",
        "if __name__ == '__main__':\n",
        "    main()\n"
      ],
      "metadata": {
        "colab": {
          "base_uri": "https://localhost:8080/"
        },
        "id": "yEfDiF1IrdI4",
        "outputId": "99b702e2-d09e-48e4-943d-b634a840bd38"
      },
      "execution_count": null,
      "outputs": [
        {
          "output_type": "stream",
          "name": "stdout",
          "text": [
            "02_e=mc2\n",
            "Enter kilos of mass: 130\n",
            "\n",
            "e = m * C^2...\n",
            "m = 130.0 kg\n",
            "C = 299792458 m/s\n",
            "1.1683817323578628e+19 joules of energy!\n"
          ]
        }
      ]
    },
    {
      "cell_type": "code",
      "source": [
        "print (\"03_feet_to_inches\")\n",
        "\n",
        "# Constant: 1 foot = 12 inches\n",
        "INCHES_IN_FOOT = 12\n",
        "\n",
        "def main():\n",
        "    # Step 1: User se input lo\n",
        "    feet = float(input(\"Enter number of feet: \"))\n",
        "\n",
        "    # Step 2: Conversion karo\n",
        "    inches = feet * INCHES_IN_FOOT\n",
        "\n",
        "    # Step 3: Output show karo\n",
        "    print(\"That is\", inches, \"inches!\")\n",
        "\n",
        "# Ye zaroori line hai program run karne ke liye\n",
        "if __name__ == '__main__':\n",
        "    main()\n"
      ],
      "metadata": {
        "colab": {
          "base_uri": "https://localhost:8080/"
        },
        "id": "lLrC36MZsSMN",
        "outputId": "13f00d6a-f44d-49aa-f584-163bcd3f8284"
      },
      "execution_count": null,
      "outputs": [
        {
          "output_type": "stream",
          "name": "stdout",
          "text": [
            "03_feet_to_inches\n",
            "Enter number of feet: 45\n",
            "That is 540.0 inches!\n"
          ]
        }
      ]
    },
    {
      "cell_type": "code",
      "source": [
        "print (\"04_pythagorean_theorem\")\n",
        "\n",
        "import math  # For using math.sqrt()\n",
        "\n",
        "def main():\n",
        "    # Step 1: Inputs\n",
        "    ab = float(input(\"Enter the length of AB: \"))\n",
        "    ac = float(input(\"Enter the length of AC: \"))\n",
        "\n",
        "    # Step 2: Pythagorean Theorem\n",
        "    bc = math.sqrt(ab**2 + ac**2)\n",
        "\n",
        "    # Step 3: Output\n",
        "    print(\"The length of BC (the hypotenuse) is:\", bc)\n",
        "\n",
        "# Required to call main()\n",
        "if __name__ == '__main__':\n",
        "    main()\n"
      ],
      "metadata": {
        "colab": {
          "base_uri": "https://localhost:8080/"
        },
        "id": "-dyz7cS3tS5s",
        "outputId": "924561ac-91df-4ee9-e2ec-80699577b5c2"
      },
      "execution_count": null,
      "outputs": [
        {
          "output_type": "stream",
          "name": "stdout",
          "text": [
            "04_pythagorean_theorem\n",
            "Enter the length of AB: 4.9\n",
            "Enter the length of AC: 5.8\n",
            "The length of BC (the hypotenuse) is: 7.592759709091287\n"
          ]
        }
      ]
    },
    {
      "cell_type": "code",
      "source": [
        "print (\"05_remainder_division\")\n",
        "\n",
        "def main():\n",
        "    # Step 1: Input lein\n",
        "    dividend = int(input(\"Please enter an integer to be divided: \"))\n",
        "    divisor = int(input(\"Please enter an integer to divide by: \"))\n",
        "\n",
        "    # Step 2: Division aur remainder nikalain\n",
        "    quotient = dividend // divisor       # Integer division\n",
        "    remainder = dividend % divisor       # Remainder\n",
        "\n",
        "    # Step 3: Output print karein\n",
        "    print(\"The result of this division is\", quotient, \"with a remainder of\", remainder)\n",
        "\n",
        "# Ye zaroori line hai taake program start ho\n",
        "if __name__ == '__main__':\n",
        "    main()\n"
      ],
      "metadata": {
        "colab": {
          "base_uri": "https://localhost:8080/"
        },
        "id": "VyE8g06_tr4k",
        "outputId": "f3df0491-8ff6-46c6-a9e1-1d144a593f37"
      },
      "execution_count": null,
      "outputs": [
        {
          "output_type": "stream",
          "name": "stdout",
          "text": [
            "05_remainder_division\n",
            "Please enter an integer to be divided: 56\n",
            "Please enter an integer to divide by: 3\n",
            "The result of this division is 18 with a remainder of 2\n"
          ]
        }
      ]
    },
    {
      "cell_type": "code",
      "source": [
        "print (\"06_seconds_in_year\")\n",
        "\n",
        "# Constants\n",
        "DAYS_PER_YEAR = 365\n",
        "HOURS_PER_DAY = 24\n",
        "MIN_PER_HOUR = 60\n",
        "SEC_PER_MIN = 60\n",
        "\n",
        "def main():\n",
        "    # Step 1: Calculate seconds in a year\n",
        "    total_seconds = DAYS_PER_YEAR * HOURS_PER_DAY * MIN_PER_HOUR * SEC_PER_MIN\n",
        "\n",
        "    # Step 2: Print the result\n",
        "    print(\"There are\", total_seconds, \"seconds in a year!\")\n",
        "\n",
        "# Required to run main function\n",
        "if __name__ == '__main__':\n",
        "    main()\n"
      ],
      "metadata": {
        "colab": {
          "base_uri": "https://localhost:8080/"
        },
        "id": "_G33CVSCuea1",
        "outputId": "3ec2c313-223f-4e7f-8dd1-cbd8fa9dbf52"
      },
      "execution_count": null,
      "outputs": [
        {
          "output_type": "stream",
          "name": "stdout",
          "text": [
            "06_seconds_in_year\n",
            "There are 31536000 seconds in a year!\n"
          ]
        }
      ]
    },
    {
      "cell_type": "code",
      "source": [
        "print (\"07_tiny_mad_lib\")\n",
        "\n",
        "SENTENCE_START = \"Panaversity is fun. I learned to program and used Python to make my \"  # Start of the sentence\n",
        "\n",
        "def main():\n",
        "    # Step 1: User se words lo\n",
        "    adjective = input(\"Please type an adjective and press enter. \")\n",
        "    noun = input(\"Please type a noun and press enter. \")\n",
        "    verb = input(\"Please type a verb and press enter. \")\n",
        "\n",
        "    # Step 2: Words ko sentence mein daalo\n",
        "    sentence = SENTENCE_START + adjective + \" \" + noun + \" \" + verb + \"!\"\n",
        "\n",
        "    # Step 3: Output print karo\n",
        "    print(sentence)\n",
        "\n",
        "# Ye zaroori hai program run karne ke liye\n",
        "if __name__ == '__main__':\n",
        "    main()\n"
      ],
      "metadata": {
        "colab": {
          "base_uri": "https://localhost:8080/"
        },
        "id": "hJX-Lq8ew1FN",
        "outputId": "ac815990-1a25-40b1-c31a-a94f1c11416e"
      },
      "execution_count": null,
      "outputs": [
        {
          "output_type": "stream",
          "name": "stdout",
          "text": [
            "07_tiny_mad_lib\n",
            "Please type an adjective and press enter. cat\n",
            "Please type a noun and press enter. cute\n",
            "Please type a verb and press enter. sleep\n",
            "Panaversity is fun. I learned to program and used Python to make my cat cute sleep!\n"
          ]
        }
      ]
    }
  ]
}