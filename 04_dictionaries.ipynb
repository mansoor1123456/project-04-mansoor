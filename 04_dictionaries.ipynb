{
  "cells": [
    {
      "cell_type": "markdown",
      "metadata": {
        "id": "view-in-github",
        "colab_type": "text"
      },
      "source": [
        "<a href=\"https://colab.research.google.com/github/mansoor1123456/project-04-mansoor/blob/main/04_dictionaries.ipynb\" target=\"_parent\"><img src=\"https://colab.research.google.com/assets/colab-badge.svg\" alt=\"Open In Colab\"/></a>"
      ]
    },
    {
      "cell_type": "code",
      "execution_count": null,
      "metadata": {
        "colab": {
          "background_save": true,
          "base_uri": "https://localhost:8080/"
        },
        "id": "xGwrxMy5Dlvv",
        "outputId": "8f7ae7e9-b15e-47d1-f160-1a913d272a91"
      },
      "outputs": [
        {
          "name": "stdout",
          "output_type": "stream",
          "text": [
            "00_count_nums\n"
          ]
        }
      ],
      "source": [
        "print (\"00_count_nums\")\n",
        "\n",
        "def get_user_numbers():\n",
        "    numbers = []\n",
        "    while True:\n",
        "        user_input = input(\"Enter a number: \")\n",
        "        if user_input == \"\":\n",
        "            break\n",
        "        number = int(user_input)\n",
        "        numbers.append(number)\n",
        "    return numbers\n",
        "\n",
        "def count_numbers(numbers):\n",
        "    count_dict = {}\n",
        "    for num in numbers:\n",
        "        if num in count_dict:\n",
        "            count_dict[num] += 1\n",
        "        else:\n",
        "            count_dict[num] = 1\n",
        "    return count_dict\n",
        "\n",
        "def print_counts(counts):\n",
        "    for num in counts:\n",
        "        print(f\"{num} appears {counts[num]} times.\")\n",
        "\n",
        "def main():\n",
        "    user_numbers = get_user_numbers()\n",
        "    num_counts = count_numbers(user_numbers)\n",
        "    print_counts(num_counts)\n",
        "\n",
        "if __name__ == '__main__':\n",
        "    main()\n"
      ]
    },
    {
      "cell_type": "code",
      "execution_count": 1,
      "metadata": {
        "id": "nhufjidaE5vx",
        "colab": {
          "base_uri": "https://localhost:8080/"
        },
        "outputId": "9436cf9a-d1b0-431f-f783-3d1de6f49f31"
      },
      "outputs": [
        {
          "output_type": "stream",
          "name": "stdout",
          "text": [
            "01_phonebook\n"
          ]
        }
      ],
      "source": [
        "print (\"01_phonebook\")\n",
        "\n",
        "def read_phone_numbers():\n",
        "    \"\"\"\n",
        "    Ask the user for names/numbers to store in a phonebook (dictionary).\n",
        "    Returns the phonebook.\n",
        "    \"\"\"\n",
        "    phonebook = {}  # Empty phonebook (dictionary)\n",
        "\n",
        "    while True:\n",
        "        name = input(\"Name: \")  # Ask for name\n",
        "        if name == \"\":  # If user presses enter without typing, exit loop\n",
        "            break\n",
        "        number = input(\"Number: \")  # Ask for the phone number\n",
        "        phonebook[name] = number  # Add the name and number to the dictionary\n",
        "\n",
        "    return phonebook\n",
        "\n",
        "\n",
        "def print_phonebook(phonebook):\n",
        "    \"\"\"\n",
        "    Prints out all the names/numbers in the phonebook.\n",
        "    \"\"\"\n",
        "    for name in phonebook:\n",
        "        print(f\"{name} -> {phonebook[name]}\")  # Print each name with the corresponding number\n",
        "\n",
        "\n",
        "def lookup_numbers(phonebook):\n",
        "    \"\"\"\n",
        "    Allow the user to lookup phone numbers in the phonebook\n",
        "    by entering a name.\n",
        "    \"\"\"\n",
        "    while True:\n",
        "        name = input(\"Enter name to lookup: \")  # Ask for a name to lookup\n",
        "        if name == \"\":  # Exit if the user enters a blank name\n",
        "            break\n",
        "        if name not in phonebook:\n",
        "            print(f\"{name} is not in the phonebook\")  # If the name is not found\n"
      ]
    },
    {
      "cell_type": "code",
      "execution_count": null,
      "metadata": {
        "id": "dZtlfyQoF-5S",
        "colab": {
          "base_uri": "https://localhost:8080/"
        },
        "outputId": "5b09d5e6-05f3-402d-f48f-2bb62af41c3b"
      },
      "outputs": [
        {
          "output_type": "stream",
          "name": "stdout",
          "text": [
            "02_pop_up_shop\n"
          ]
        }
      ],
      "source": [
        "print (\"02_pop_up_shop\")\n",
        "\n",
        "def main():\n",
        "    # Fruit prices dictionary\n",
        "    fruits = {'apple': 1.5, 'durian': 50, 'jackfruit': 80, 'kiwi': 1, 'rambutan': 1.5, 'mango': 5}\n",
        "\n",
        "    # Initialize total cost to 0\n",
        "    total_cost = 0\n",
        "\n",
        "    # Loop through each fruit in the dictionary\n",
        "    for fruit_name in fruits:\n",
        "        price = fruits[fruit_name]  # Get price of the current fruit\n",
        "\n",
        "        # Ask the user for the quantity of the current fruit they want to buy\n",
        "        amount_bought = int(input(f\"How many ({fruit_name}) do you want to buy?: \"))\n",
        "\n",
        "        # Calculate the cost for the current fruit and add to total\n",
        "        total_cost += (price * amount_bought)\n",
        "\n",
        "    # Print the total cost\n",
        "    print(f\"Your total is ${total_cost:.2f}\")  # Showing 2 decimal points for the cost\n",
        "\n",
        "\n",
        "# Python boilerplate\n",
        "if __name__ == '__main__':\n",
        "    main()\n"
      ]
    },
    {
      "cell_type": "code",
      "execution_count": null,
      "metadata": {
        "id": "kur5kQzPGQNJ"
      },
      "outputs": [],
      "source": [
        "print (\"03_powerful_passwords\")\n",
        "\n",
        "from hashlib import sha256\n",
        "\n",
        "def login(email, stored_logins, password_to_check):\n",
        "    \"\"\"\n",
        "    Returns True if the hash of the password we are checking matches the one in stored_logins\n",
        "    for a specific email. Otherwise, returns False.\n",
        "\n",
        "    email: the email we are checking the password for\n",
        "    stored_logins: a dictionary pointing from an email to its hashed password\n",
        "    password_to_check: a password we want to test alongside the email to login with\n",
        "    \"\"\"\n",
        "\n",
        "    # Compare the hash of the password_to_check with the stored hash for the given email\n",
        "    if stored_logins[email] == hash_password(password_to_check):\n",
        "        return True\n",
        "\n",
        "    return False\n",
        "\n",
        "# Hash the password to generate its SHA256 hash\n",
        "def hash_password(password):\n",
        "    \"\"\"\n",
        "    Takes in a password and returns the SHA256 hashed value for that specific password.\n",
        "\n",
        "    Inputs:\n",
        "        password: the password we want\n",
        "\n",
        "    Outputs:\n",
        "        the hashed form of the input password\n",
        "    \"\"\"\n",
        "\n",
        "    # Encoding the password and hashing it using SHA256\n",
        "    return sha256(password.encode()).hexdigest()\n",
        "\n",
        "def main():\n",
        "    # stored_logins is a dictionary with emails as keys and hashed passwords as values\n",
        "    stored_logins = {\n",
        "        \"example@gmail.com\": \"5e884898da28047151d0e56f8dc6292773603d0d6aabbdd62a11ef721d1542d8\",  # Hash of \"password\"\n",
        "        \"code_in_placer@cip.org\": \"973607a4ae7b4cf7d96a100b0fb07e8519cc4f70441d41214a9f811577bb06cc\",  # Hash of \"Karel\"\n",
        "        \"student@stanford.edu\": \"882c6df720fd99f5eebb1581a1cf975625cea8a160283011c0b9512bb56c95fb\"  # Hash of \"password\"\n",
        "    }\n",
        "\n",
        "    # Testing login for different scenarios\n",
        "    print(login(\"example@gmail.com\", stored_logins, \"word\"))  # False, wrong password\n",
        "    print(login(\"example@gmail.com\", stored_logins, \"password\"))  # True, correct password\n",
        "\n",
        "    print(login(\"code_in_placer@cip.org\", stored_logins, \"Karel\"))  # True, correct password\n",
        "    print(login(\"code_in_placer@cip.org\", stored_logins, \"karel\"))  # False, case sensitive\n",
        "\n",
        "    print(login(\"student@stanford.edu\", stored_logins, \"password\"))  # True, correct password\n",
        "    print(login(\"student@stanford.edu\", stored_logins, \"123!456?789\"))  # False, wrong password\n",
        "\n",
        "\n",
        "if __name__ == '__main__':\n",
        "    main()\n"
      ]
    }
  ],
  "metadata": {
    "colab": {
      "provenance": [],
      "authorship_tag": "ABX9TyNgUXM2zZDGjgpo4UuvqecM",
      "include_colab_link": true
    },
    "kernelspec": {
      "display_name": "Python 3",
      "name": "python3"
    },
    "language_info": {
      "name": "python"
    }
  },
  "nbformat": 4,
  "nbformat_minor": 0
}