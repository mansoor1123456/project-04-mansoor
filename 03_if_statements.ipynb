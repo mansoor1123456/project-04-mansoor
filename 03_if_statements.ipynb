{
  "cells": [
    {
      "cell_type": "markdown",
      "metadata": {
        "id": "view-in-github",
        "colab_type": "text"
      },
      "source": [
        "<a href=\"https://colab.research.google.com/github/mansoor1123456/project-04-mansoor/blob/main/03_if_statements.ipynb\" target=\"_parent\"><img src=\"https://colab.research.google.com/assets/colab-badge.svg\" alt=\"Open In Colab\"/></a>"
      ]
    },
    {
      "cell_type": "code",
      "execution_count": null,
      "metadata": {
        "colab": {
          "base_uri": "https://localhost:8080/"
        },
        "id": "jkMrpdfg-S53",
        "outputId": "88eb63c1-3559-45d6-8b79-08dfd22c2c8f"
      },
      "outputs": [
        {
          "name": "stdout",
          "output_type": "stream",
          "text": [
            "01_print_events\n",
            "0\n",
            "2\n",
            "4\n",
            "6\n",
            "8\n",
            "10\n",
            "12\n",
            "14\n",
            "16\n",
            "18\n",
            "20\n",
            "22\n",
            "24\n",
            "26\n",
            "28\n",
            "30\n",
            "32\n",
            "34\n",
            "36\n",
            "38\n"
          ]
        }
      ],
      "source": [
        "print (\"01_print_events\")\n",
        "\n",
        "def main():\n",
        "    for i in range(20):   # 0 se 19 tak chalega, total 20 times\n",
        "        print(i * 2)       # Har baar i ko 2 se multiply karke print karega\n",
        "\n",
        "# Ye line zaroori hai taake main function chale\n",
        "if __name__ == '__main__':\n",
        "    main()\n"
      ]
    },
    {
      "cell_type": "code",
      "execution_count": null,
      "metadata": {
        "colab": {
          "base_uri": "https://localhost:8080/"
        },
        "id": "akbS5Wr4_hkA",
        "outputId": "fbfd1a08-f872-4a79-f8f6-71057f385974"
      },
      "outputs": [
        {
          "name": "stdout",
          "output_type": "stream",
          "text": [
            "02_international_voting_age\n",
            "How old are you? 20\n",
            "You can vote in Peturksbouipo where the voting age is 16.\n",
            "You cannot vote in Stanlau where the voting age is 25.\n",
            "You cannot vote in Mayengua where the voting age is 48.\n"
          ]
        }
      ],
      "source": [
        "print (\"02_international_voting_age\")\n",
        "\n",
        "# Constant voting ages\n",
        "PETURKSBOUIPO_AGE = 16\n",
        "STANLAU_AGE = 25\n",
        "MAYENGUA_AGE = 48\n",
        "\n",
        "def main():\n",
        "    # Step 1: Ask user for their age\n",
        "    user_age = int(input(\"How old are you? \"))\n",
        "\n",
        "    # Step 2: Check voting eligibility for each country\n",
        "\n",
        "    # Peturksbouipo\n",
        "    if user_age >= PETURKSBOUIPO_AGE:\n",
        "        print(f\"You can vote in Peturksbouipo where the voting age is {PETURKSBOUIPO_AGE}.\")\n",
        "    else:\n",
        "        print(f\"You cannot vote in Peturksbouipo where the voting age is {PETURKSBOUIPO_AGE}.\")\n",
        "\n",
        "    # Stanlau\n",
        "    if user_age >= STANLAU_AGE:\n",
        "        print(f\"You can vote in Stanlau where the voting age is {STANLAU_AGE}.\")\n",
        "    else:\n",
        "        print(f\"You cannot vote in Stanlau where the voting age is {STANLAU_AGE}.\")\n",
        "\n",
        "    # Mayengua\n",
        "    if user_age >= MAYENGUA_AGE:\n",
        "        print(f\"You can vote in Mayengua where the voting age is {MAYENGUA_AGE}.\")\n",
        "    else:\n",
        "        print(f\"You cannot vote in Mayengua where the voting age is {MAYENGUA_AGE}.\")\n",
        "\n",
        "# Call the main function\n",
        "if __name__ == '__main__':\n",
        "    main()\n"
      ]
    },
    {
      "cell_type": "code",
      "execution_count": null,
      "metadata": {
        "colab": {
          "base_uri": "https://localhost:8080/"
        },
        "id": "7ibR4JxO_8YG",
        "outputId": "ca9a6789-8789-444c-c770-c43bbb16f235"
      },
      "outputs": [
        {
          "name": "stdout",
          "output_type": "stream",
          "text": [
            "03_leap_yea\n",
            "Please input a year: 2035\n",
            "That's not a leap year.\n"
          ]
        }
      ],
      "source": [
        "print (\"03_leap_yea\")\n",
        "\n",
        "def main():\n",
        "    # Step 1: Ask the user for the year\n",
        "    year = int(input(\"Please input a year: \"))\n",
        "\n",
        "    # Step 2: Check for leap year using the 3 rules\n",
        "    if year % 4 == 0:\n",
        "        if year % 100 == 0:\n",
        "            if year % 400 == 0:\n",
        "                print(\"That's a leap year!\")\n",
        "            else:\n",
        "                print(\"That's not a leap year.\")\n",
        "        else:\n",
        "            print(\"That's a leap year!\")\n",
        "    else:\n",
        "        print(\"That's not a leap year.\")\n",
        "\n",
        "# Step 3: Run the main function\n",
        "if __name__ == '__main__':\n",
        "    main()\n"
      ]
    },
    {
      "cell_type": "code",
      "execution_count": null,
      "metadata": {
        "colab": {
          "background_save": true,
          "base_uri": "https://localhost:8080/"
        },
        "id": "RcItIiCcAv8w",
        "outputId": "e12a8e6c-b114-46c6-8e6c-46bdf71aa4bf"
      },
      "outputs": [
        {
          "name": "stdout",
          "output_type": "stream",
          "text": [
            "04_tall_enough_to_ride\n",
            "You're not tall enough to ride, but maybe next year!\n"
          ]
        }
      ],
      "source": [
        "print (\"04_tall_enough_to_ride\")\n",
        "\n",
        "MINIMUM_HEIGHT = 50\n",
        "\n",
        "def tall_enough_extension():\n",
        "    while True:\n",
        "        height_input = input(\"How tall are you? (press enter to quit) \")\n",
        "\n",
        "        if height_input == \"\":\n",
        "            break  # User entered nothing, exit the loop\n",
        "\n",
        "        height = float(height_input)\n",
        "\n",
        "        if height >= MINIMUM_HEIGHT:\n",
        "            print(\"You're tall enough to ride!\")\n",
        "        else:\n",
        "            print(\"You're not tall enough to ride, but maybe next year!\")\n",
        "\n",
        "def main():\n",
        "    tall_enough_extension()\n",
        "\n",
        "if __name__ == '__main__':\n",
        "    main()\n",
        "\n"
      ]
    },
    {
      "cell_type": "code",
      "execution_count": 1,
      "metadata": {
        "id": "hZG-lbefCYBy",
        "colab": {
          "base_uri": "https://localhost:8080/"
        },
        "outputId": "86278318-68bc-43d2-9cd0-64d8d7b433b0"
      },
      "outputs": [
        {
          "output_type": "stream",
          "name": "stdout",
          "text": [
            "05_random_numbers\n",
            "35\n",
            "50\n",
            "70\n",
            "40\n",
            "80\n",
            "20\n",
            "27\n",
            "29\n",
            "69\n",
            "79\n"
          ]
        }
      ],
      "source": [
        "print (\"05_random_numbers\")\n",
        "\n",
        "import random\n",
        "\n",
        "N_NUMBERS = 10\n",
        "MIN_VALUE = 1\n",
        "MAX_VALUE = 100\n",
        "\n",
        "def main():\n",
        "    for _ in range(N_NUMBERS):\n",
        "        value = random.randint(MIN_VALUE, MAX_VALUE)\n",
        "        print(value)\n",
        "\n",
        "if __name__ == '__main__':\n",
        "    main()\n"
      ]
    }
  ],
  "metadata": {
    "colab": {
      "provenance": [],
      "authorship_tag": "ABX9TyP1Yc80EuRCGTk67yoRsk8D",
      "include_colab_link": true
    },
    "kernelspec": {
      "display_name": "Python 3",
      "name": "python3"
    },
    "language_info": {
      "name": "python"
    }
  },
  "nbformat": 4,
  "nbformat_minor": 0
}